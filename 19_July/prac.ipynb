{
 "cells": [
  {
   "cell_type": "code",
   "execution_count": 3,
   "metadata": {},
   "outputs": [
    {
     "data": {
      "text/plain": [
       "True"
      ]
     },
     "execution_count": 3,
     "metadata": {},
     "output_type": "execute_result"
    }
   ],
   "source": [
    "# given word is palindrome or not\n",
    "\n",
    "def is_palindrome(string):\n",
    "    rev_string = string[::-1]\n",
    "    if string == rev_string:\n",
    "        return True\n",
    "    \n",
    "    return False\n",
    "is_palindrome('nitin')"
   ]
  },
  {
   "cell_type": "code",
   "execution_count": 11,
   "metadata": {},
   "outputs": [
    {
     "name": "stdout",
     "output_type": "stream",
     "text": [
      "Not a palidrome \n"
     ]
    }
   ],
   "source": [
    "def is_pali(string):\n",
    "    for i in range(0, len(string)):\n",
    "        if string[i] != string[len(string)-1-i]:\n",
    "          return False\n",
    "    return True\n",
    "\n",
    "if is_pali('nitin kumar'):\n",
    "   print(\"String is palindrome\")\n",
    "else:\n",
    "   print('Not a palidrome ')"
   ]
  },
  {
   "cell_type": "code",
   "execution_count": 39,
   "metadata": {},
   "outputs": [
    {
     "name": "stdout",
     "output_type": "stream",
     "text": [
      "Not a palindrome number\n",
      "Number is palindrome \n"
     ]
    }
   ],
   "source": [
    "# given number is palindrome or not\n",
    "\n",
    "def pali(n):\n",
    "\n",
    "    temp = n\n",
    "    rev_n  = 0\n",
    "\n",
    "    while temp > 0:\n",
    "        digit = temp % 10\n",
    "\n",
    "        rev_n = rev_n *10 + digit\n",
    "        temp = temp//10\n",
    "\n",
    "    if n == rev_n:\n",
    "        print(\"Number is palindrome \")\n",
    "    else:\n",
    "        print('Not a palindrome number')\n",
    "\n",
    "pali(1456)\n",
    "pali(1234554321)"
   ]
  },
  {
   "cell_type": "code",
   "execution_count": 34,
   "metadata": {},
   "outputs": [
    {
     "name": "stdout",
     "output_type": "stream",
     "text": [
      "0\n",
      "1 1 2 3 5 8 13 21 34 55 89 144 233 377 610 987 1597 2584 4181 6765 10946 17711 28657 "
     ]
    }
   ],
   "source": [
    "# print fibonacci series\n",
    "\n",
    "def print_fib(length):\n",
    "    if length < 0:\n",
    "        print(\"Incorrect output\")\n",
    "        return -1\n",
    "    a = 0\n",
    "    b = 1\n",
    "    print(a)\n",
    "    for i in range(1,length+1):\n",
    "        print(b, end=\" \")\n",
    "\n",
    "        a,b = b, a+b\n",
    "print_fib(23)"
   ]
  },
  {
   "cell_type": "code",
   "execution_count": 31,
   "metadata": {},
   "outputs": [
    {
     "data": {
      "text/plain": [
       "28657"
      ]
     },
     "execution_count": 31,
     "metadata": {},
     "output_type": "execute_result"
    }
   ],
   "source": [
    "def fib(n):\n",
    "\n",
    "    if n < 0:\n",
    "        print(\"Incorrect output\")\n",
    "    \n",
    "    elif n ==0 :\n",
    "        return 0\n",
    "\n",
    "    elif n==1 or n==2:\n",
    "        return 1\n",
    "    else:\n",
    "        return fib(n-1) + fib(n-2)\n",
    "\n",
    "fib(23)"
   ]
  },
  {
   "cell_type": "code",
   "execution_count": 35,
   "metadata": {},
   "outputs": [
    {
     "name": "stdout",
     "output_type": "stream",
     "text": [
      "0 1 1 2 3 5 8 13 21 34 55 89 144 233 377 610 987 1597 2584 4181 6765 10946 17711 "
     ]
    }
   ],
   "source": [
    "def print_fib_series(n, a=0, b=1, current=0):\n",
    "    if current < n:\n",
    "        print(a, end=\" \")\n",
    "        print_fib_series(n, b, a + b, current + 1)\n",
    "\n",
    "# Example usage:\n",
    "print_fib_series(23)\n"
   ]
  },
  {
   "cell_type": "code",
   "execution_count": 36,
   "metadata": {},
   "outputs": [
    {
     "name": "stdout",
     "output_type": "stream",
     "text": [
      "0 1 1 2 3 5 8 13 21 34 55 89 144 233 377 610 987 1597 2584 4181 6765 10946 17711 "
     ]
    }
   ],
   "source": [
    "def print_fib_using_rec(n, a=0, b=1, current=0):\n",
    "\n",
    "    if current < n :\n",
    "        print(a, end=\" \")\n",
    "        print_fib_using_rec(n, b, a+b, current+1)\n",
    "\n",
    "print_fib_using_rec(23)"
   ]
  },
  {
   "cell_type": "code",
   "execution_count": 43,
   "metadata": {},
   "outputs": [
    {
     "name": "stdout",
     "output_type": "stream",
     "text": [
      "a1b2c2a4f3e1\n"
     ]
    }
   ],
   "source": [
    "#input -  aabbccaaaafffeiii\n",
    "# output a2b2c2a4f3e1i3\n",
    "\n",
    "# by using for loop\n",
    "\n",
    "def compress(s):\n",
    "\n",
    "    n = len(s)\n",
    "    new_s = ''\n",
    "    count=1\n",
    "\n",
    "    for i in range(n-1):\n",
    "        if s[i] == s[i+1]:\n",
    "            count +=1 \n",
    "        else:\n",
    "            new_s = new_s + s[i] + str(count)\n",
    "            count = 1\n",
    "    return new_s\n",
    "\n",
    "print(compress('abbccaaaafffeiii'))\n"
   ]
  },
  {
   "cell_type": "code",
   "execution_count": 49,
   "metadata": {},
   "outputs": [
    {
     "name": "stdout",
     "output_type": "stream",
     "text": [
      "a2b2c2a4f3e1i3j1\n"
     ]
    }
   ],
   "source": [
    "#input -  aabbccaaaafffeiii\n",
    "# output a2b2c2a4f3e1i3\n",
    "\n",
    "def compress1(s):\n",
    "\n",
    "    new_s = ''\n",
    "    count =1\n",
    "    n= len(s)\n",
    "\n",
    "    for i in range(n-1):\n",
    "        if s[i] == s[i+1]:\n",
    "            count+=1\n",
    "        else:\n",
    "            new_s  =new_s + s[i] + str(count)\n",
    "            count =1\n",
    "    new_s = new_s + s[n-1] + str(count)\n",
    "    return new_s\n",
    "\n",
    "string = 'aabbccaaaafffeiiij'\n",
    "print(compress1(string))"
   ]
  },
  {
   "cell_type": "code",
   "execution_count": 56,
   "metadata": {},
   "outputs": [
    {
     "name": "stdout",
     "output_type": "stream",
     "text": [
      "{'a': 6, 'b': 2, 'c': 2, 'f': 3, 'e': 1, 'i': 3}\n",
      "e\n"
     ]
    }
   ],
   "source": [
    "# least repating character in a string\n",
    "\n",
    "def least_char_occurrence(s):\n",
    "    count = {}\n",
    "\n",
    "    for i in s:\n",
    "        count[i] = count.get(i, 0) +1\n",
    "    print(count)\n",
    "    result = min(count, key=count.get)\n",
    "    return result\n",
    "\n",
    "print(least_char_occurrence('aabbccaaaafffeiii'))"
   ]
  },
  {
   "cell_type": "code",
   "execution_count": 70,
   "metadata": {},
   "outputs": [
    {
     "name": "stdout",
     "output_type": "stream",
     "text": [
      "False\n"
     ]
    }
   ],
   "source": [
    "# check wheter a number is prime or not\n",
    "# using flag\n",
    "\n",
    "def is_prime(n):\n",
    "    if n < 1:\n",
    "        print('Incorrect input')\n",
    "        return -1\n",
    "    elif n == 2:\n",
    "        return True\n",
    "    else:\n",
    "\n",
    "        for i in range(2,int(n**0.5)+1):\n",
    "            if n%i == 0 :\n",
    "                return False\n",
    "    return True\n",
    "\n",
    "print(is_prime(4))"
   ]
  },
  {
   "cell_type": "code",
   "execution_count": 72,
   "metadata": {},
   "outputs": [
    {
     "name": "stdout",
     "output_type": "stream",
     "text": [
      "2 3 5 7 "
     ]
    }
   ],
   "source": [
    "# print all prime in a range\n",
    "def prime_range(first,last):\n",
    "    for i in range(first,last+1):\n",
    "        if is_prime(i):\n",
    "            print(i, end=\" \")\n",
    "prime_range(2,9)"
   ]
  },
  {
   "cell_type": "code",
   "execution_count": 80,
   "metadata": {},
   "outputs": [
    {
     "name": "stdout",
     "output_type": "stream",
     "text": [
      "2 3 5 7 11 "
     ]
    }
   ],
   "source": [
    "def prime_in_range(start,end):\n",
    "\n",
    "    for n in range(start, end+1):\n",
    "\n",
    "        if n > 1:\n",
    "            for i in range(2, (n//2)+1):\n",
    "                if n % i ==0:\n",
    "                    break\n",
    "            else:\n",
    "                print(n, end=\" \")\n",
    "\n",
    "prime_in_range(2,11)"
   ]
  },
  {
   "cell_type": "code",
   "execution_count": 81,
   "metadata": {},
   "outputs": [
    {
     "name": "stdout",
     "output_type": "stream",
     "text": [
      "tHIS.iS.a.gOOD.mORNING\n"
     ]
    }
   ],
   "source": [
    "# modify string\n",
    "# input = This_Is_A_Good_Morning\n",
    "# output = tHIS.iS.a.gOOD.mORNING\n",
    "\n",
    "def modify_string(s):\n",
    "    li = []\n",
    "    temp = s.split('_')\n",
    "\n",
    "    for i in temp:\n",
    "        li.append(i[0].lower()+i[1:].upper())\n",
    "\n",
    "    s = \".\".join(li)\n",
    "    print(s)\n",
    "\n",
    "modify_string('This_Is_A_Good_Morning')"
   ]
  },
  {
   "cell_type": "code",
   "execution_count": 84,
   "metadata": {},
   "outputs": [
    {
     "name": "stdout",
     "output_type": "stream",
     "text": [
      "The second largest number is 45\n"
     ]
    }
   ],
   "source": [
    "# second largest number in a list:\n",
    "\n",
    "def second_largest(numbers):\n",
    "\n",
    "    if len(numbers)< 2:\n",
    "        return None\n",
    "    \n",
    "    f_largest = s_largest = float('-inf')\n",
    "\n",
    "    for number in numbers:\n",
    "        if number > f_largest:\n",
    "            s_largest = f_largest\n",
    "            f_largest = number\n",
    "\n",
    "        elif number > s_largest and number != f_largest:\n",
    "            s_largest = number\n",
    "\n",
    "    # if second largest is still -inf it means all element are the same\n",
    "    if s_largest == float('-inf'):\n",
    "        return None\n",
    "    return s_largest\n",
    "\n",
    "\n",
    "numbers = [10, 20, 4, 45, 99]\n",
    "result = second_largest(numbers)\n",
    "if result:\n",
    "    print(f\"The second largest number is {result}\")\n",
    "else:\n",
    "    print(\"The list does not have a second largest number\")"
   ]
  },
  {
   "cell_type": "code",
   "execution_count": 85,
   "metadata": {},
   "outputs": [
    {
     "name": "stdout",
     "output_type": "stream",
     "text": [
      "[10, 20, 4, 45, 99]\n",
      "[4, 10, 20, 45, 99]\n"
     ]
    }
   ],
   "source": [
    "print(numbers)\n",
    "numbers.sort()\n",
    "print(numbers, rev)"
   ]
  },
  {
   "cell_type": "code",
   "execution_count": 92,
   "metadata": {},
   "outputs": [
    {
     "name": "stdout",
     "output_type": "stream",
     "text": [
      "The number is not an armstrong number\n"
     ]
    }
   ],
   "source": [
    "def is_armstrong(num):\n",
    "    temp = num\n",
    "    sum = 0\n",
    "\n",
    "    while temp > 0:\n",
    "        digit = temp%10\n",
    "        cube = digit**3\n",
    "        sum+=cube\n",
    "\n",
    "        temp = temp//10\n",
    "\n",
    "    if sum == num:\n",
    "        print('The number is armstrong number')\n",
    "    else:\n",
    "        print(\"The number is not an armstrong number\")\n",
    "\n",
    "is_armstrong(1532)"
   ]
  },
  {
   "cell_type": "code",
   "execution_count": 98,
   "metadata": {},
   "outputs": [
    {
     "name": "stdout",
     "output_type": "stream",
     "text": [
      "The number is armstrong number\n",
      "The number is armstrong number\n",
      "The number is not an armstrong number\n"
     ]
    }
   ],
   "source": [
    "def is_armstrong1(num):\n",
    "\n",
    "    num_str = str(num)\n",
    "    length = len(num_str)\n",
    "    sum = 0\n",
    "    for i in num_str:\n",
    "        sum += int(i) ** length\n",
    "\n",
    "    if sum == num:\n",
    "        print('The number is armstrong number')\n",
    "    else:\n",
    "        print(\"The number is not an armstrong number\")\n",
    "\n",
    "is_armstrong1(153)\n",
    "is_armstrong1(1634)\n",
    "is_armstrong1(1632)\n",
    "\n"
   ]
  },
  {
   "cell_type": "code",
   "execution_count": 1,
   "metadata": {},
   "outputs": [
    {
     "name": "stdout",
     "output_type": "stream",
     "text": [
      "8\n"
     ]
    }
   ],
   "source": [
    "a = [1,1,1,1,0,1,1,1,1,1,1,1,1,0,1,1,1,1,1]\n",
    "\n",
    "count_of_one = 0\n",
    "last_count_one = 0\n",
    "\n",
    "for i in range(len(a)):\n",
    "    if a[i] == 1:\n",
    "        count_of_one+=1\n",
    "    else:\n",
    "        if count_of_one>last_count_one:\n",
    "            last_count_one = count_of_one\n",
    "            count_of_one = 0\n",
    "\n",
    "if count_of_one > last_count_one:\n",
    "    print(count_of_one)\n",
    "else:\n",
    "    print(last_count_one)"
   ]
  },
  {
   "cell_type": "code",
   "execution_count": 3,
   "metadata": {},
   "outputs": [
    {
     "name": "stdout",
     "output_type": "stream",
     "text": [
      "30\n"
     ]
    }
   ],
   "source": [
    "sample = [1,2,3,4,5,6,7,8,9,10] \n",
    "\n",
    "sum = sum([x for x in sample if x%2==0])\n",
    "print(sum)"
   ]
  },
  {
   "cell_type": "code",
   "execution_count": 5,
   "metadata": {},
   "outputs": [
    {
     "name": "stdout",
     "output_type": "stream",
     "text": [
      "2 3 5 7 11 "
     ]
    }
   ],
   "source": [
    "def is_prime2(first, last):\n",
    "\n",
    "    for i in range(first, last+1):\n",
    "\n",
    "        if i > 1:\n",
    "            for j in range(2,(i//2)+1):\n",
    "                if i % j == 0:\n",
    "                    break\n",
    "            else:\n",
    "                print(i, end=\" \")\n",
    "\n",
    "is_prime2(2,11)"
   ]
  },
  {
   "cell_type": "code",
   "execution_count": null,
   "metadata": {},
   "outputs": [],
   "source": []
  }
 ],
 "metadata": {
  "kernelspec": {
   "display_name": "Python 3",
   "language": "python",
   "name": "python3"
  },
  "language_info": {
   "codemirror_mode": {
    "name": "ipython",
    "version": 3
   },
   "file_extension": ".py",
   "mimetype": "text/x-python",
   "name": "python",
   "nbconvert_exporter": "python",
   "pygments_lexer": "ipython3",
   "version": "3.9.6"
  }
 },
 "nbformat": 4,
 "nbformat_minor": 2
}
