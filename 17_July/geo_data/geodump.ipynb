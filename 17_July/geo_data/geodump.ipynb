{
 "cells": [
  {
   "cell_type": "code",
   "execution_count": 1,
   "metadata": {},
   "outputs": [],
   "source": [
    "import sqlite3  \n",
    "import json"
   ]
  },
  {
   "cell_type": "code",
   "execution_count": 14,
   "metadata": {},
   "outputs": [],
   "source": [
    "conn = sqlite3.connect('opengeo.sqlite')\n",
    "cur = conn.cursor()"
   ]
  },
  {
   "cell_type": "code",
   "execution_count": 18,
   "metadata": {},
   "outputs": [
    {
     "name": "stdout",
     "output_type": "stream",
     "text": [
      "Unexpected format\n",
      "{'type': 'FeatureCollection', 'features': [{'type': 'Feature', 'geometry': {'type': 'Point', 'coordinates': [-90.45997, 35.95422]}, 'properties': {'country_code': 'us', 'country': 'United States', 'county': 'Craighead County', 'datasource': {'sourcename': 'whosonfirst', 'attribution': \"Who's On First\", 'license': 'CC0', 'url': 'https://www.whosonfirst.org/docs/licenses/'}, 'state': 'Arkansas', 'city': 'State University', 'state_code': 'AR', 'lon': -90.45997, 'lat': 35.95422, 'result_type': 'city', 'formatted': 'State University, AR, United States of America', 'address_line1': 'State University, AR', 'address_line2': 'United States of America', 'timezone': {'display_name': 'America/Chicago', 'offset_STD': '-06:00', 'offset_STD_seconds': -21600, 'offset_DST': '-05:00', 'offset_DST_seconds': -18000, 'abbreviation_STD': 'CST', 'abbreviation_DST': 'CDT'}, 'plus_code': '867FXG3R+M2', 'rank': {'popularity': 1.2820358257326678, 'confidence': 0.6666666666666667, 'confidence_city_level': 0.6666666666666667, 'match_type': 'full_match'}, 'place_id': '5108c90226709d56c059359886e123fa4140c00208e2031f77686f736f6e66697273743a6c6f63616c6974793a31333237343531323933'}, 'bbox': [-90.47997, 35.93422, -90.43997, 35.97422]}], 'query': {'text': 'Belorussian State University'}}\n",
      "33 records written to where.js\n"
     ]
    }
   ],
   "source": [
    "fhand = open('where.js','a')\n",
    "fhand.write('mydata = [\\n')\n",
    "count = 0\n",
    "cur.execute('SELECT * FROM Locations')\n",
    "for row in cur :\n",
    "    data = row[1].decode()\n",
    "    try : js =json.loads(data)\n",
    "    except: continue\n",
    "\n",
    "    if len(js['features']) == 0: continue\n",
    "\n",
    "    try:\n",
    "        # lat = js['features'][0]['geometry'][\"coordinates\"][1]\n",
    "        # lng = js['features'][0]['geometry'][\"coordinates\"][0]\n",
    "        # where = js['features'][0]['properties']['display-name']\n",
    "        lat = js['features'][0]['geometry']['coordinates'][1]\n",
    "        lng = js['features'][0]['geometry']['coordinates'][0]\n",
    "        where = js['features'][0]['properties']['display_name']\n",
    "        where = where.replace(\"'\", \"\")\n",
    "    except:\n",
    "        print(\"Unexpected format\")\n",
    "        print(js)\n",
    "    \n",
    "    try:\n",
    "        count += 1\n",
    "        if count > 1 : \n",
    "            fhand.write(',\\n')\n",
    "        output = \"[\"+str(lat)+\",\"+str(lng)+\", '\" + where + \"']\"\n",
    "        fhand.write(output)\n",
    "\n",
    "    except: continue\n",
    "fhand.write('\\n];\\n')\n",
    "\n",
    "print(count, \"records written to where.js\")\n",
    "\n",
    "    \n",
    "    "
   ]
  },
  {
   "cell_type": "code",
   "execution_count": null,
   "metadata": {},
   "outputs": [],
   "source": []
  }
 ],
 "metadata": {
  "kernelspec": {
   "display_name": "Python 3",
   "language": "python",
   "name": "python3"
  },
  "language_info": {
   "codemirror_mode": {
    "name": "ipython",
    "version": 3
   },
   "file_extension": ".py",
   "mimetype": "text/x-python",
   "name": "python",
   "nbconvert_exporter": "python",
   "pygments_lexer": "ipython3",
   "version": "3.9.6"
  }
 },
 "nbformat": 4,
 "nbformat_minor": 2
}
