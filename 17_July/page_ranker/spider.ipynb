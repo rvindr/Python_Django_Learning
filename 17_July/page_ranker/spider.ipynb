{
 "cells": [
  {
   "cell_type": "code",
   "execution_count": 2,
   "metadata": {},
   "outputs": [],
   "source": [
    "import sqlite3\n",
    "from urllib.parse import urljoin, urlparse\n",
    "from urllib.request import urlopen\n",
    "from bs4 import BeautifulSoup"
   ]
  },
  {
   "cell_type": "code",
   "execution_count": 3,
   "metadata": {},
   "outputs": [],
   "source": [
    "conn = sqlite3.connect('spider.sqlite')\n",
    "cur = conn.cursor()"
   ]
  },
  {
   "cell_type": "code",
   "execution_count": 4,
   "metadata": {},
   "outputs": [
    {
     "data": {
      "text/plain": [
       "<sqlite3.Cursor at 0x104ceae30>"
      ]
     },
     "execution_count": 4,
     "metadata": {},
     "output_type": "execute_result"
    }
   ],
   "source": [
    "cur.executescript('''\n",
    "CREATE TABLE IF NOT EXISTS Pages (\n",
    "                  id INTEGER PRIMARY KEY,\n",
    "                  url TEXT UNIQUE,\n",
    "                  html TEXT,\n",
    "                  error INTEGER, old_rank REAL, new_rank REAL\n",
    "                  );\n",
    "CREATE TABLE IF NOT EXISTS Links (\n",
    "                  from_id INTEGER, to_id INTEGER, UNIQUE(from_id,to_id)\n",
    "                  );\n",
    "CREATE TABLE IF NOT EXISTS Webs (url TEXT UNIQUE);''')"
   ]
  },
  {
   "cell_type": "code",
   "execution_count": 5,
   "metadata": {},
   "outputs": [],
   "source": [
    "cur.execute('SELECT id, url FROM Pages WHERE html IS NOT NULL AND error IS NULL ORDER BY RANDOM() LIMIT 1')\n",
    "row = cur.fetchone()\n",
    "\n",
    "if row is not None:\n",
    "    print('Restarting existing crwal, Remove spider.sqlite to start a fresh crawl.')\n",
    "else:\n",
    "    starturl = input('Enter web url or press enter')\n",
    "    if len(starturl) < 1: starturl = 'http://www.dr-chuck.com/'\n",
    "    if starturl.endswith('/'): starturl = starturl[:-1]\n",
    "    web = starturl\n",
    "\n",
    "    if (starturl.endswith('html' or starturl.endswith('htm'))) :\n",
    "        pos = starturl.rfind('/')\n",
    "        web = starturl[:pos]\n",
    "\n",
    "    if len(web) > 1:\n",
    "        cur.execute('INSERT OR IGNORE INTO Webs VALUES (?)',(web,))\n",
    "        cur.execute('INSERT OR IGNORE INTO Pages (url,html,new_rank) VALUES (?, NULL, 1.0)',(we))"
   ]
  },
  {
   "cell_type": "code",
   "execution_count": null,
   "metadata": {},
   "outputs": [],
   "source": []
  }
 ],
 "metadata": {
  "kernelspec": {
   "display_name": "Python 3",
   "language": "python",
   "name": "python3"
  },
  "language_info": {
   "codemirror_mode": {
    "name": "ipython",
    "version": 3
   },
   "file_extension": ".py",
   "mimetype": "text/x-python",
   "name": "python",
   "nbconvert_exporter": "python",
   "pygments_lexer": "ipython3",
   "version": "3.9.6"
  }
 },
 "nbformat": 4,
 "nbformat_minor": 2
}
